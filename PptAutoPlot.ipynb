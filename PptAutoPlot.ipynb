{
 "cells": [
  {
   "cell_type": "code",
   "execution_count": 1,
   "metadata": {},
   "outputs": [],
   "source": [
    "import win32com.client\n",
    "from win32com.client import constants as c\n",
    "import pandas as pd\n",
    "import datetime\n",
    "\n",
    "now = str(datetime.datetime.now())[:19]                        # Generate a time stamp when the script is started\n",
    "now = now.replace(\":\",\"_\")\n"
   ]
  },
  {
   "cell_type": "code",
   "execution_count": 2,
   "metadata": {},
   "outputs": [],
   "source": [
    "################################################## Helper Functions ########################################################\n",
    "\n",
    "def QuitApp (PPTApp, Open_presentations_list):\n",
    "    \n",
    "    print(\"Status: Dispatched PowerPoint Object Killed.\")\n",
    "    if Open_presentations_list == []:\n",
    "        PPTApp.Quit()\n",
    "\n",
    "def SavePPT (PPTApp, PPTPres, Out_File_Name):\n",
    "    \n",
    "    PPTPres.SaveAs(Out_File_Name)\n",
    "\n",
    "def ClosePPT (PPTApp, PPTPres, Open_presentations_list):\n",
    "    \n",
    "    print(\"Status: Closing Presentation ...\")\n",
    "    if PPTPres.FullName not in Open_presentations_list:\n",
    "        PPTApp.Presentations(PPTPres.FullName).Close()"
   ]
  },
  {
   "cell_type": "code",
   "execution_count": 3,
   "metadata": {},
   "outputs": [],
   "source": [
    "Input_Excel = r\"C:/.../InputData.xlsx\"  ## Excel having Charts\n",
    "Input_PPT = r'C:/.../Template_Bar.pptx' ## Template\n",
    "Output_Result = r\"C:/../Presentation_Result_Auto\" + str(now) + \".pptx\""
   ]
  },
  {
   "cell_type": "code",
   "execution_count": 4,
   "metadata": {},
   "outputs": [],
   "source": [
    "def AutomatePPT():\n",
    "\n",
    "    # Picks an Active Instance of Excel.\n",
    "    Excel = win32com.client.GetActiveObject(\"Excel.Application\")\n",
    "    Excel.Visible = True\n",
    "\n",
    "    # The workbook with the charts.\n",
    "    xlWorkbook = Excel.Workbooks.Open(Input_Excel)\n",
    "    \n",
    "    # The metadata sheet which contains all the information about the data to be placed in PPT\n",
    "    df = pd.read_excel(Input_Excel,sheet_name = 'MetaData')\n",
    "\n",
    "    try: \n",
    "\n",
    "        PPTApp = win32com.client.GetActiveObject(\"Powerpoint.Application\")\n",
    "        PPTApp.Visible = True\n",
    "        Open_presentations_list = []\n",
    "        for PPTs in PPTApp.Presentations:\n",
    "            Open_presentations_list.append(PPTs.FullName)\n",
    "\n",
    "        PPTPres = PPTApp.Presentations(Input_PPT)   ### If App Aleready Open\n",
    "\n",
    "    except:\n",
    "\n",
    "        PPTApp = win32com.client.Dispatch(\"PowerPoint.Application\")\n",
    "        PPTApp.Visible = True\n",
    "        Open_presentations_list = []\n",
    "        for PPTs in PPTApp.Presentations:\n",
    "            Open_presentations_list.append(PPTs.FullName)\n",
    "\n",
    "        PPTPres = PPTApp.Presentations.Open(Input_PPT, WithWindow = False)\n",
    "\n",
    "    #Add a presentation to the PowerPoint Application, returns a Presentation Object.\n",
    "    PPTPresentation = PPTPres #PPTApp.Presentations.Add()\n",
    "\n",
    "    ind_sheet = 1\n",
    "\n",
    "    for i in range(df.shape[0]):\n",
    "\n",
    "        # Wee need to check each Worksheet as mentioned in the Metadata Sheet.\n",
    "        for xlWorksheet in xlWorkbook.Worksheets:\n",
    "\n",
    "            if xlWorksheet.Name == df['Sheet'][i]:\n",
    "\n",
    "                ind_chart = 1\n",
    "\n",
    "                # Grab the ChartObjects Collection for each sheet.\n",
    "                xlCharts = xlWorksheet.ChartObjects()\n",
    "\n",
    "                # Loop through each Chart in the ChartObjects Collection.\n",
    "\n",
    "                for index, xlChart in enumerate(xlCharts):\n",
    "\n",
    "                    if index+1 == int(df['Chart'][i]):\n",
    "\n",
    "                        PPTSlide = PPTPresentation.Slides(int(df['Slides'][i]))  # 12 is a blank layout\n",
    "\n",
    "                        # Display something to the user.\n",
    "                        print('Exporting Chart {} from Worksheet {}'.format(xlChart.Name, xlWorksheet.Name))\n",
    "\n",
    "                        # Copy chart.\n",
    "                        xlChart.Copy()\n",
    "\n",
    "                        # Paste the Object to the Slide\n",
    "                        PPTSlide.Shapes.PasteSpecial(DataType = 1)\n",
    "                        Shapes_Count_New = PPTSlide.Shapes.Count\n",
    "\n",
    "                       # after puting the chart in the slides where they are meant to be, shape them according to the values provided in Metadata sheet\n",
    "\n",
    "                        PPTSlide.Shapes(Shapes_Count_New).Width = int(df['Width'][i])\n",
    "                        PPTSlide.Shapes(Shapes_Count_New).Height = int(df['Height'][i])\n",
    "                        PPTSlide.Shapes(Shapes_Count_New).Left = int(df['Left'][i])\n",
    "                        PPTSlide.Shapes(Shapes_Count_New).Top = int(df['Top'][i])\n",
    "\n",
    "    #                     print(df['Width'][ind_chart-1],df['Height'][ind_chart-1],df['Left'][ind_chart-1],df['Top'][ind_chart-1])\n",
    "\n",
    "                ind_chart += 1\n",
    "\n",
    "        ind_sheet += 1\n",
    "\n",
    "    # Save the presentation.\n",
    "    SavePPT (PPTApp, PPTPres, Output_Result)              ### Save(As)\n",
    "    ClosePPT (PPTApp, PPTPres, Open_presentations_list)   ### Close the presentation\n",
    "    QuitApp (PPTApp, Open_presentations_list)             ### Quit the dispatched App"
   ]
  },
  {
   "cell_type": "code",
   "execution_count": 5,
   "metadata": {},
   "outputs": [
    {
     "name": "stdout",
     "output_type": "stream",
     "text": [
      "Exporting Chart Chart 1 from Worksheet C1\n",
      "Exporting Chart Chart 1 from Worksheet C2\n",
      "Exporting Chart Chart 2 from Worksheet C2\n",
      "Status: Closing Presentation ...\n",
      "Status: Dispatched PowerPoint Object Killed.\n"
     ]
    }
   ],
   "source": [
    "AutomatePPT()"
   ]
  },
  {
   "cell_type": "code",
   "execution_count": null,
   "metadata": {},
   "outputs": [],
   "source": []
  },
  {
   "cell_type": "code",
   "execution_count": null,
   "metadata": {},
   "outputs": [],
   "source": [
    "######################################### Debug ##############################"
   ]
  },
  {
   "cell_type": "code",
   "execution_count": 6,
   "metadata": {},
   "outputs": [
    {
     "name": "stdout",
     "output_type": "stream",
     "text": [
      "Count of Active Presentations 0\n"
     ]
    }
   ],
   "source": [
    "import win32com.client\n",
    "\n",
    "PPTApp = win32com.client.Dispatch(\"PowerPoint.Application\")\n",
    "print(\"Count of Active Presentations\", PPTApp.Presentations.Count)\n",
    "\n",
    "# Names of Active Presentations\n",
    "for ppts in PPTApp.Presentations:\n",
    "    print(ppts.Name)\n",
    "\n",
    "#Close all active presentations\n",
    "for ppts in PPTApp.Presentations:\n",
    "    PPTApp.Presentations(ppts.Name).Close()\n",
    "    \n",
    "# Quit dispatched Powerpoint Object\n",
    "PPTApp.Quit()  "
   ]
  },
  {
   "cell_type": "code",
   "execution_count": 12,
   "metadata": {},
   "outputs": [
    {
     "name": "stdout",
     "output_type": "stream",
     "text": [
      "Count of Active Workbooks 0\n"
     ]
    }
   ],
   "source": [
    "import win32com.client\n",
    "\n",
    "Excel = win32com.client.Dispatch(\"Excel.Application\")\n",
    "print(\"Count of Active Workbooks\", Excel.Workbooks.Count)\n",
    "\n",
    "# Names of Active Presentations\n",
    "for Workbook in Excel.Workbooks:\n",
    "    print(Workbook.Name)\n",
    "\n",
    "#Close all active presentations\n",
    "for Workbook in Excel.Workbooks:\n",
    "    Excel.Workbooks(Workbook.Name).Close()\n",
    "    \n",
    "# Quit dispatched Powerpoint Object\n",
    "Excel.Quit()  "
   ]
  }
 ],
 "metadata": {
  "kernelspec": {
   "display_name": "Python 3",
   "language": "python",
   "name": "python3"
  },
  "language_info": {
   "codemirror_mode": {
    "name": "ipython",
    "version": 3
   },
   "file_extension": ".py",
   "mimetype": "text/x-python",
   "name": "python",
   "nbconvert_exporter": "python",
   "pygments_lexer": "ipython3",
   "version": "3.8.3"
  }
 },
 "nbformat": 4,
 "nbformat_minor": 2
}
